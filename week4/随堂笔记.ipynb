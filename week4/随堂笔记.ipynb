{
 "cells": [
  {
   "cell_type": "raw",
   "metadata": {},
   "source": [
    "\t\t\t\n",
    "原理\tBGD，SGD，MBGD区别\t\t\t\t\n",
    "工具\tSurprise中的Baseline算法\tMovieLens\t\t\t\n",
    "工具\tSurprise中的SlopeOne算法\tMovieLens\t\t\t\n",
    "原理\tK折交叉验证\t\t\t\t\n",
    "原理\t评价指标：RMSE，MSE，FCP\t\t\t\t\n",
    "工具\tDataFrame与Series使用\t\t\t\t\n",
    "工具\tIndex索引 Groupby方法\t\t\t\t\n",
    "工具\tmap(), lambda函数\t\t\t\t\n"
   ]
  },
  {
   "cell_type": "markdown",
   "metadata": {},
   "source": [
    "# 常用推荐算法\n",
    "   \n",
    "   ![avatar](./images/372.png)\n",
    "   "
   ]
  },
  {
   "cell_type": "markdown",
   "metadata": {},
   "source": [
    "# 矩阵分解概念：\n",
    "    矩阵分解，主要用于评分矩阵这种稀疏矩阵，它是一种隐语义模型，它是把原来的大矩阵，近似的分解成小矩阵的乘积，在实际推荐计算时不再使用大矩阵，而是使用分解得到的两个小矩阵，假设用户物品的评分矩阵A是m乘n维，即一共有m个用户，n个物品.通过一套算法转化为两个矩阵U和V,矩阵U的维度是m乘k，矩阵V的维度是k乘n，这里面的k就是隐语义，它的含义如下图所示\n",
    "<img src=\"./images/373.png\" width=100 />\n",
    "   \n",
    "   \n",
    "   "
   ]
  },
  {
   "cell_type": "markdown",
   "metadata": {},
   "source": [
    "## ALS进行矩阵分解的原理\n",
    " \n",
    "   <img src=\"./images/361.jpg\" width=500 />\n",
    "   然后通过最小交替二乘法实现"
   ]
  },
  {
   "cell_type": "markdown",
   "metadata": {},
   "source": [
    "交替最小二乘法步骤：\n",
    "\n",
    "    Step1，固定Y 优化X 即：把y看作常量，x求偏导数\n",
    "    Step2，固定X 优化Y 即：把x看作常量，y求偏导数\n",
    "    重复Step1和2，直到X 和Y 收敛。每次固定一个矩阵，优化另一个矩阵\n",
    "    注：\n",
    "      矩阵性质： $$ (A+B)^T=A^T+B^T,（AB）^T=B^T*A^T $$\n",
    "      \n",
    "隐形行为需要加上置信度：由于有时候隐形行为会发生多次，需要用它来模拟喜欢强度，此时表现形式如下：\n",
    "   <img src=\"./images/yx.jpg\"  width=800px/>\n",
    "     "
   ]
  },
  {
   "cell_type": "raw",
   "metadata": {},
   "source": [
    "\n",
    "未完成部分：\n",
    "\n",
    "但仍存在一些小问题，比如知识点总结不够具体，特别是后面的知识点，比如SGD、BaseLine、SlopeOne、pandas、如何阅读paper。另外对知识点也可以增加一些你自己的思考。继续加油~"
   ]
  },
  {
   "cell_type": "raw",
   "metadata": {},
   "source": []
  },
  {
   "cell_type": "raw",
   "metadata": {},
   "source": []
  },
  {
   "cell_type": "raw",
   "metadata": {},
   "source": []
  },
  {
   "cell_type": "raw",
   "metadata": {},
   "source": []
  },
  {
   "cell_type": "raw",
   "metadata": {},
   "source": []
  },
  {
   "cell_type": "raw",
   "metadata": {},
   "source": []
  },
  {
   "cell_type": "raw",
   "metadata": {},
   "source": []
  }
 ],
 "metadata": {
  "kernelspec": {
   "display_name": "Python 3",
   "language": "python",
   "name": "python3"
  },
  "language_info": {
   "codemirror_mode": {
    "name": "ipython",
    "version": 3
   },
   "file_extension": ".py",
   "mimetype": "text/x-python",
   "name": "python",
   "nbconvert_exporter": "python",
   "pygments_lexer": "ipython3",
   "version": "3.8.3"
  },
  "toc": {
   "base_numbering": 1,
   "nav_menu": {},
   "number_sections": true,
   "sideBar": true,
   "skip_h1_title": false,
   "title_cell": "Table of Contents",
   "title_sidebar": "Contents",
   "toc_cell": false,
   "toc_position": {},
   "toc_section_display": true,
   "toc_window_display": false
  },
  "varInspector": {
   "cols": {
    "lenName": 16,
    "lenType": 16,
    "lenVar": 40
   },
   "kernels_config": {
    "python": {
     "delete_cmd_postfix": "",
     "delete_cmd_prefix": "del ",
     "library": "var_list.py",
     "varRefreshCmd": "print(var_dic_list())"
    },
    "r": {
     "delete_cmd_postfix": ") ",
     "delete_cmd_prefix": "rm(",
     "library": "var_list.r",
     "varRefreshCmd": "cat(var_dic_list()) "
    }
   },
   "types_to_exclude": [
    "module",
    "function",
    "builtin_function_or_method",
    "instance",
    "_Feature"
   ],
   "window_display": false
  }
 },
 "nbformat": 4,
 "nbformat_minor": 4
}
