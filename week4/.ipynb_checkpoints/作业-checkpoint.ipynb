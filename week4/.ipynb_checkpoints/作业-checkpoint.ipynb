{
 "cells": [
  {
   "cell_type": "markdown",
   "metadata": {},
   "source": [
    "# Thinking"
   ]
  },
  {
   "cell_type": "markdown",
   "metadata": {},
   "source": [
    "## ALS都有哪些应用场景（能简单说明ALS的应用场景）\n",
    "    1、ALS算法用来补全用户评分矩阵。由于用户评分矩阵比较稀疏，将用户评分矩阵进行分解，变成V和U的乘积。通过求得V和U两个小的矩阵来补\n",
    "      全用户评分矩阵。\n",
    "    2、ALS算法使用交替最小二乘法来进行求解。\n",
    "    3、ALS分为显示反馈和隐式反馈两种。显示反馈是指用户有明确的评分。对于商品推荐来说，大部分是通过用户的行为，获取隐式反馈的评分。\n",
    "       隐式反馈评分矩阵需要进行处理，如果有用户评分则置为1，没有则赋值为0。但是对这个处理后的评分矩阵，再有一个置信度来评价这个评分。\n",
    "       置信度等于1+a*用户真实评分\n",
    "    4、ALS的代价函数是估计值和现有的评分值误差的平方和，引入了L2正则\n"
   ]
  },
  {
   "cell_type": "markdown",
   "metadata": {},
   "source": [
    "## ALS进行矩阵分解的时候，为什么可以并行化处理（理解ALS的原理，并能用自己的语言解释ALS能并行化的原因）\n",
    "    这里的并行计算是值不同特征向量X、Y之间的并行计算,最小二乘法是通过最小化误差的平方和来寻找和数据最匹配的函数。使用交替最小二乘法\n",
    "    来求解。步骤是先设置一个特征值X，然后求解另一个特征矩阵Y。然后再固定一个矩阵Y，求解另一个矩阵X。这就是交替二乘法的步骤。在矩阵\n",
    "    求解的过程中，比如固定Y，求解X的话，目标评分矩阵A。X的每一行可以独立求解，X的第i行和Y的计算得到A的第i行。这样的话，对于每一步来说，\n",
    "    X或者Y的行或者列都是可以独立并行求解的。这样ALS就可以进行并行化计算了。"
   ]
  },
  {
   "cell_type": "markdown",
   "metadata": {},
   "source": [
    "## 梯度下降法中的批量梯度下降（BGD），随机梯度下降（SGD），和小批量梯度下降有什么区别（MBGD）（能说明三种梯度下降的区别）\n",
    "    BGD:每次迭代时使用所有的样本来更新参数,速度慢，但迭代次数少；可以将所有的样本放在一个矩阵中，实现并行计算,在整个数据集上确定梯度\n",
    "        下降的方向，当目标函数为凸函数时，BGD一定可以达到全局最优。\n",
    "    SGD:每次迭代使用一个样本来更新参数，速度快，但是不利于实现并行操作，容易陷入局部最优，因为单个样本不能代表整体样本的趋势\n",
    "    MBGD:它是BGD和SGD的综合，每次迭代使用一批样本来更新参数"
   ]
  },
  {
   "cell_type": "markdown",
   "metadata": {},
   "source": [
    "## 你阅读过和推荐系统/计算广告/预测相关的论文么？有哪些论文是你比较推荐的，可以分享到微信群中 （论文推荐分享）"
   ]
  },
  {
   "cell_type": "markdown",
   "metadata": {},
   "source": [
    "# Action"
   ]
  },
  {
   "cell_type": "markdown",
   "metadata": {},
   "source": [
    "## 对MovieLens数据集进行评分预测工具：可以使用Surprise或者其他说明使用的模型，及简要原理（1、完成代码，流程正确2、能使用Surprise或其他工具，并对使用模型的原理进行说明）\n",
    "\n",
    "\n"
   ]
  },
  {
   "cell_type": "code",
   "execution_count": 110,
   "metadata": {
    "ExecuteTime": {
     "end_time": "2020-12-03T13:27:02.781339Z",
     "start_time": "2020-12-03T13:25:41.198113Z"
    }
   },
   "outputs": [
    {
     "name": "stdout",
     "output_type": "stream",
     "text": [
      "BaselineOnly的als第一次运行\n",
      "采用BaselineOnly方式预测，参数为{'method': 'als', 'n_epochs': 5, 'reg_u': 12, 'reg_i': 5}\n",
      "Estimating biases using als...\n",
      "RMSE: 0.8651\n",
      "Estimating biases using als...\n",
      "RMSE: 0.8633\n",
      "Estimating biases using als...\n",
      "RMSE: 0.8633\n",
      "用户196对电影302的评分预测为4.19946502939133\n",
      "用户196对电影592的评分预测为3.7726831470276405,实际得分为4.0\n",
      "用户196对电影709的评分预测为3.683444707456737,实际得分为3.0\n",
      "用户196对电影1088的评分预测为3.5330964190451373,实际得分为5.0\n",
      "用户196对电影2846的评分预测为3.600190144989014,实际得分为2.0\n",
      "BaselineOnly的als第一次运行结束\n",
      "BaselineOnly的als第二次运行\n",
      "采用BaselineOnly方式预测，参数为{'method': 'als', 'n_epochs': 5, 'reg_u': 12, 'reg_i': 5}\n",
      "Estimating biases using als...\n",
      "RMSE: 0.8621\n",
      "Estimating biases using als...\n",
      "RMSE: 0.8648\n",
      "Estimating biases using als...\n",
      "RMSE: 0.8649\n",
      "用户196对电影302的评分预测为4.102687575604318\n",
      "用户196对电影592的评分预测为3.861828707048762,实际得分为4.0\n",
      "用户196对电影709的评分预测为3.754131178758566,实际得分为3.0\n",
      "用户196对电影1088的评分预测为3.6718040860182874,实际得分为5.0\n",
      "用户196对电影2846的评分预测为3.6088529168733436,实际得分为2.0\n",
      "BaselineOnly的als第二次运行结束\n",
      "BaselineOnly的method第一次运行\n",
      "采用BaselineOnly方式预测，参数为{'method': 'sgd', 'n_epochs': 5}\n",
      "Estimating biases using sgd...\n",
      "RMSE: 0.8743\n",
      "Estimating biases using sgd...\n",
      "RMSE: 0.8749\n",
      "Estimating biases using sgd...\n",
      "RMSE: 0.8736\n",
      "用户196对电影302的评分预测为4.063373634815395\n",
      "用户196对电影592的评分预测为3.6192936586599442,实际得分为4.0\n",
      "用户196对电影709的评分预测为3.678722491741166,实际得分为3.0\n",
      "用户196对电影1088的评分预测为3.570155821785435,实际得分为5.0\n",
      "用户196对电影2846的评分预测为3.56682241102037,实际得分为2.0\n",
      "BaselineOnly第一次运行结束\n",
      "BaselineOnly的sgd第二次运行\n",
      "采用BaselineOnly方式预测，参数为{'method': 'sgd', 'n_epochs': 5}\n",
      "Estimating biases using sgd...\n",
      "RMSE: 0.8746\n",
      "Estimating biases using sgd...\n",
      "RMSE: 0.8735\n",
      "Estimating biases using sgd...\n",
      "RMSE: 0.8750\n",
      "用户196对电影302的评分预测为3.9863539906882455\n",
      "用户196对电影592的评分预测为3.647983071686717,实际得分为4.0\n",
      "用户196对电影709的评分预测为3.7258698113016893,实际得分为3.0\n",
      "用户196对电影1088的评分预测为3.5840152407886205,实际得分为5.0\n",
      "用户196对电影2846的评分预测为3.655486774604634,实际得分为2.0\n",
      "BaselineOnly的sgd第二次运行结束\n"
     ]
    }
   ],
   "source": [
    "#加载相关包\n",
    "# !pip install surprise\n",
    "from surprise import Dataset\n",
    "from surprise import Reader\n",
    "from surprise import BaselineOnly, KNNBasic,NormalPredictor\n",
    "from surprise import KNNBaseline\n",
    "from surprise import accuracy\n",
    "from surprise.model_selection import KFold\n",
    "import pandas as pd \n",
    "\n",
    "\n",
    "\n",
    "\n",
    "# reg_i：物品的正则化参数，默认为10。\n",
    "# reg_u：用户的正则化参数，默认为15 。\n",
    "# n_epochs：迭代次数，默认为10\n",
    "# 使用als方式\n",
    "\n",
    "# 加载数据\n",
    "def load_data():\n",
    "    reader = Reader(line_format='user item rating timestamp', sep=',', skip_lines=1)\n",
    "    data = Dataset.load_from_file('./code/MovieLens/ratings.csv', reader=reader)\n",
    "    return data\n",
    "#把数据转换成dataframe\n",
    "def data_to_df(data):\n",
    "    raw_ratings = data.raw_ratings\n",
    "    #用户id\n",
    "    userId=[]\n",
    "    #电影id\n",
    "    itemId=[]\n",
    "    #评分\n",
    "    rate=[]\n",
    "    for raw in raw_ratings:\n",
    "        userId.append(raw[0])\n",
    "        itemId.append(raw[1])\n",
    "        rate.append(raw[2])\n",
    "    data_dit={\"userId\":userId,\"itemId\":itemId,\"rate\":rate}\n",
    "    return pd.DataFrame(data_dit)\n",
    "    \n",
    "    \n",
    "# 通过globals()方法对传入对字符串使用baseline方式，KNNBAseLine方式，以及NormalPredictor方式对评分预测\n",
    "# NormalPredictor 评分数据是来自一个正态分布的数据，根据训练集的分布特征随机给出一个预测值\n",
    "# BaselineOnly\n",
    "def predict_rate(data,df,methods,bsl_options = None):\n",
    "    print(\"采用{}方式预测，参数为{}\".format(methods,bsl_options))\n",
    "    algo = None\n",
    "    if(bsl_options):\n",
    "        algo = globals()[methods](bsl_options)\n",
    "    else:\n",
    "        algo = globals()[methods]()\n",
    "    data_set = data.build_full_trainset()\n",
    "    kf = KFold(n_splits=3)\n",
    "    for trainset, testset in kf.split(data):\n",
    "        algo.fit(trainset)\n",
    "        predictions = algo.test(testset)\n",
    "        accuracy.rmse(predictions)\n",
    "#     rank = globals()[methods](user, N)\n",
    "    user_items=[(\"196\",\"302\"),(\"196\",\"592\"),(\"196\",\"709\"),(\"196\",\"1088\"),(\"196\",\"2846\")]\n",
    "    for user_item in user_items:\n",
    "        pred = algo.predict(user_item[0], user_item[1], r_ui=4)\n",
    "        userItem=df[(df[\"userId\"]==user_item[0])&(df[\"itemId\"]==user_item[1])]\n",
    "        userItem=list(userItem[\"rate\"]) \n",
    "        if len(userItem)>0:\n",
    "            print('用户{}对电影{}的评分预测为{},实际得分为{}'.format(user_item[0],user_item[1],pred.est,userItem[0])) \n",
    "        else :\n",
    "            print('用户{}对电影{}的评分预测为{}'.format(uid,iid,pred.est)) \n",
    "    return\n",
    "    \n",
    "\n",
    "# algo = NormalPredictor()\n",
    "#     bsl_options = {'method': method,'n_epochs': 5,'reg_u': 12,'reg_i': 5}\n",
    "\n",
    "data =load_data()\n",
    "df=data_to_df(data)\n",
    "print('NormalPredictor第一次运行')\n",
    "predict_rate(data,df,methods='NormalPredictor')\n",
    "print('NormalPredictor第一次运行结束')\n",
    "print('NormalPredictor第二次运行')\n",
    "predict_rate(data,df,methods='NormalPredictor')\n",
    "print('NormalPredictor第二次运行结束')\n",
    "\n",
    "bsl_options = {'method': 'als','n_epochs': 5,'reg_u': 12,'reg_i': 5}\n",
    "print('BaselineOnly的als第一次运行')\n",
    "predict_rate(data,df,methods='BaselineOnly',bsl_options=bsl_options)\n",
    "print('BaselineOnly的als第一次运行结束')\n",
    "print('BaselineOnly的als第二次运行')\n",
    "predict_rate(data,df,methods='BaselineOnly',bsl_options=bsl_options)\n",
    "print('BaselineOnly的als第二次运行结束')\n",
    "\n",
    "bsl_options = {'method': 'sgd','n_epochs': 5}\n",
    "print('BaselineOnly的method第一次运行')\n",
    "predict_rate(data,df,methods='BaselineOnly',bsl_options=bsl_options)\n",
    "print('BaselineOnly第一次运行结束')\n",
    "\n",
    "print('BaselineOnly的sgd第二次运行')\n",
    "predict_rate(data,df,methods='BaselineOnly',bsl_options=bsl_options)\n",
    "print('BaselineOnly的sgd第二次运行结束')\n",
    "\n",
    "print('KNNBaseline第一次运行')\n",
    "predict_rate(data,df,methods='KNNBaseline')\n",
    "print('KNNBaseline第一次运行结束')\n",
    "\n",
    "print('KNNBaseline第一次运行')\n",
    "predict_rate(data,df,methods='KNNBaseline')\n",
    "print('KNNBaseline第一次运行结束')\n",
    "\n",
    "\n",
    "\n",
    "\n"
   ]
  },
  {
   "cell_type": "code",
   "execution_count": 97,
   "metadata": {
    "ExecuteTime": {
     "end_time": "2020-12-03T12:47:33.364614Z",
     "start_time": "2020-12-03T12:47:33.336017Z"
    }
   },
   "outputs": [
    {
     "name": "stdout",
     "output_type": "stream",
     "text": [
      "3\n"
     ]
    }
   ],
   "source": []
  },
  {
   "cell_type": "markdown",
   "metadata": {},
   "source": [
    "## Paper Reading：Slope one predictors for online rating-based collaborative filtering. Daniel Lemire and Anna Maclachlan, 2007. http://arxiv.org/abs/cs/0702144.积累，总结笔记，自己的思考及idea （1、完成论文阅读，整理阅读笔记 2、有自己的idea）\n"
   ]
  },
  {
   "cell_type": "markdown",
   "metadata": {},
   "source": [
    "## 设计你自己的句子生成器 （完成代码，结果正确）\n",
    "grammar = '''\n",
    "战斗 => 施法  ， 结果 。\n",
    "施法 => 主语 动作 技能 \n",
    "结果 => 主语 获得 效果\n",
    "主语 => 张飞 | 关羽 | 赵云 | 典韦 | 许褚 | 刘备 | 黄忠 | 曹操 | 鲁班七号 | 貂蝉\n",
    "动作 => 施放 | 使用 | 召唤 \n",
    "技能 => 一骑当千 | 单刀赴会 | 青龙偃月 | 刀锋铁骑 | 黑暗潜能 | 画地为牢 | 守护机关 | 狂兽血性 | 龙鸣 | 惊雷之龙 | 破云之龙 | 天翔之龙\n",
    "获得 => 损失 | 获得 \n",
    "效果 => 数值 状态\n",
    "数值 => 1 | 1000 |5000 | 100 \n",
    "状态 => 法力 | 生命\n",
    "'''\n"
   ]
  }
 ],
 "metadata": {
  "kernelspec": {
   "display_name": "Python 3",
   "language": "python",
   "name": "python3"
  },
  "language_info": {
   "codemirror_mode": {
    "name": "ipython",
    "version": 3
   },
   "file_extension": ".py",
   "mimetype": "text/x-python",
   "name": "python",
   "nbconvert_exporter": "python",
   "pygments_lexer": "ipython3",
   "version": "3.8.3"
  },
  "toc": {
   "base_numbering": 1,
   "nav_menu": {},
   "number_sections": true,
   "sideBar": true,
   "skip_h1_title": false,
   "title_cell": "Table of Contents",
   "title_sidebar": "Contents",
   "toc_cell": false,
   "toc_position": {},
   "toc_section_display": true,
   "toc_window_display": false
  },
  "varInspector": {
   "cols": {
    "lenName": 16,
    "lenType": 16,
    "lenVar": 40
   },
   "kernels_config": {
    "python": {
     "delete_cmd_postfix": "",
     "delete_cmd_prefix": "del ",
     "library": "var_list.py",
     "varRefreshCmd": "print(var_dic_list())"
    },
    "r": {
     "delete_cmd_postfix": ") ",
     "delete_cmd_prefix": "rm(",
     "library": "var_list.r",
     "varRefreshCmd": "cat(var_dic_list()) "
    }
   },
   "types_to_exclude": [
    "module",
    "function",
    "builtin_function_or_method",
    "instance",
    "_Feature"
   ],
   "window_display": false
  }
 },
 "nbformat": 4,
 "nbformat_minor": 4
}
