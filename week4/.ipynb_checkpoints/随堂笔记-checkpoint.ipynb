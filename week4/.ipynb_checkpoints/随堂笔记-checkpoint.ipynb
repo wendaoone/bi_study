{
 "cells": [
  {
   "cell_type": "raw",
   "metadata": {},
   "source": [
    "原理\t常用的推荐算法有哪些\t\t\t\t\n",
    "原理\t基于模型的协同过滤有哪些\t\t\t\t\n",
    "原理\t基于邻域的推荐算法\t\t\t\t\n",
    "原理\t什么是矩阵分解\t\t\t\t\n",
    "原理\tALS进行矩阵分解的原理\t\t\t\t\n",
    "原理\tBGD，SGD，MBGD区别\t\t\t\t\n",
    "工具\tSurprise中的Baseline算法\tMovieLens\t\t\t\n",
    "工具\tSurprise中的SlopeOne算法\tMovieLens\t\t\t\n",
    "原理\tK折交叉验证\t\t\t\t\n",
    "原理\t评价指标：RMSE，MSE，FCP\t\t\t\t\n",
    "工具\tDataFrame与Series使用\t\t\t\t\n",
    "工具\tIndex索引 Groupby方法\t\t\t\t\n",
    "工具\tmap(), lambda函数\t\t\t\t\n"
   ]
  },
  {
   "cell_type": "raw",
   "metadata": {},
   "source": []
  },
  {
   "cell_type": "raw",
   "metadata": {},
   "source": []
  },
  {
   "cell_type": "raw",
   "metadata": {},
   "source": []
  },
  {
   "cell_type": "raw",
   "metadata": {},
   "source": []
  },
  {
   "cell_type": "raw",
   "metadata": {},
   "source": []
  },
  {
   "cell_type": "raw",
   "metadata": {},
   "source": []
  },
  {
   "cell_type": "raw",
   "metadata": {},
   "source": []
  },
  {
   "cell_type": "raw",
   "metadata": {},
   "source": []
  },
  {
   "cell_type": "raw",
   "metadata": {},
   "source": []
  },
  {
   "cell_type": "raw",
   "metadata": {},
   "source": []
  },
  {
   "cell_type": "raw",
   "metadata": {},
   "source": []
  },
  {
   "cell_type": "raw",
   "metadata": {},
   "source": []
  },
  {
   "cell_type": "raw",
   "metadata": {},
   "source": []
  },
  {
   "cell_type": "raw",
   "metadata": {},
   "source": []
  }
 ],
 "metadata": {
  "kernelspec": {
   "display_name": "Python 3",
   "language": "python",
   "name": "python3"
  },
  "language_info": {
   "codemirror_mode": {
    "name": "ipython",
    "version": 3
   },
   "file_extension": ".py",
   "mimetype": "text/x-python",
   "name": "python",
   "nbconvert_exporter": "python",
   "pygments_lexer": "ipython3",
   "version": "3.8.3"
  },
  "toc": {
   "base_numbering": 1,
   "nav_menu": {},
   "number_sections": true,
   "sideBar": true,
   "skip_h1_title": false,
   "title_cell": "Table of Contents",
   "title_sidebar": "Contents",
   "toc_cell": false,
   "toc_position": {},
   "toc_section_display": true,
   "toc_window_display": false
  },
  "varInspector": {
   "cols": {
    "lenName": 16,
    "lenType": 16,
    "lenVar": 40
   },
   "kernels_config": {
    "python": {
     "delete_cmd_postfix": "",
     "delete_cmd_prefix": "del ",
     "library": "var_list.py",
     "varRefreshCmd": "print(var_dic_list())"
    },
    "r": {
     "delete_cmd_postfix": ") ",
     "delete_cmd_prefix": "rm(",
     "library": "var_list.r",
     "varRefreshCmd": "cat(var_dic_list()) "
    }
   },
   "types_to_exclude": [
    "module",
    "function",
    "builtin_function_or_method",
    "instance",
    "_Feature"
   ],
   "window_display": false
  }
 },
 "nbformat": 4,
 "nbformat_minor": 4
}
