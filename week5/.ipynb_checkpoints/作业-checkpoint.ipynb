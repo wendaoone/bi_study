{
 "cells": [
  {
   "cell_type": "code",
   "execution_count": null,
   "metadata": {},
   "outputs": [],
   "source": [
    "def cos_dist(a, b):\n",
    "    if len(a) != len(b):\n",
    "        return None\n",
    "    part_up = 0.0\n",
    "    a_sq = 0.0\n",
    "    b_sq = 0.0\n",
    "    for a1, b1 in zip(a,b):\n",
    "        part_up += a1*b1\n",
    "        a_sq += a1**2\n",
    "        b_sq += b1**2\n",
    "    part_down = math.sqrt(a_sq*b_sq)\n",
    "    if part_down == 0.0:\n",
    "        return None\n",
    "    else:\n",
    "        return part_up / part_down\n",
    "d1 = (1.1, 2, 1.1,1,0,0)\n",
    "d2 = (0, 0.9, 0.4)\n",
    "q = (0, 0.8, 0.5)\n",
    "print cos_dist(d1, q)\n",
    "print cos_dist(d2, q)"
   ]
  }
 ],
 "metadata": {
  "kernelspec": {
   "display_name": "Python 3",
   "language": "python",
   "name": "python3"
  },
  "language_info": {
   "codemirror_mode": {
    "name": "ipython",
    "version": 3
   },
   "file_extension": ".py",
   "mimetype": "text/x-python",
   "name": "python",
   "nbconvert_exporter": "python",
   "pygments_lexer": "ipython3",
   "version": "3.8.3"
  },
  "toc": {
   "base_numbering": 1,
   "nav_menu": {},
   "number_sections": true,
   "sideBar": true,
   "skip_h1_title": false,
   "title_cell": "Table of Contents",
   "title_sidebar": "Contents",
   "toc_cell": false,
   "toc_position": {},
   "toc_section_display": true,
   "toc_window_display": false
  },
  "varInspector": {
   "cols": {
    "lenName": 16,
    "lenType": 16,
    "lenVar": 40
   },
   "kernels_config": {
    "python": {
     "delete_cmd_postfix": "",
     "delete_cmd_prefix": "del ",
     "library": "var_list.py",
     "varRefreshCmd": "print(var_dic_list())"
    },
    "r": {
     "delete_cmd_postfix": ") ",
     "delete_cmd_prefix": "rm(",
     "library": "var_list.r",
     "varRefreshCmd": "cat(var_dic_list()) "
    }
   },
   "types_to_exclude": [
    "module",
    "function",
    "builtin_function_or_method",
    "instance",
    "_Feature"
   ],
   "window_display": false
  }
 },
 "nbformat": 4,
 "nbformat_minor": 4
}
