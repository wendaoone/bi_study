{
 "cells": [
  {
   "cell_type": "markdown",
   "metadata": {},
   "source": [
    "微信推荐的方法：种子用户-> 人群圈选 -> embedding -》人群放大"
   ]
  },
  {
   "cell_type": "markdown",
   "metadata": {},
   "source": [
    "参加kaggle 比赛对工作很有优势"
   ]
  },
  {
   "cell_type": "markdown",
   "metadata": {},
   "source": [
    "罗辑回归  xgboost  lightbm 算法"
   ]
  },
  {
   "cell_type": "markdown",
   "metadata": {},
   "source": [
    "推荐系统提升用户DAU\n",
    "\n"
   ]
  },
  {
   "cell_type": "markdown",
   "metadata": {},
   "source": []
  },
  {
   "cell_type": "markdown",
   "metadata": {},
   "source": []
  },
  {
   "cell_type": "code",
   "execution_count": 30,
   "metadata": {
    "ExecuteTime": {
     "end_time": "2020-11-14T09:18:53.722255Z",
     "start_time": "2020-11-14T09:18:48.365000Z"
    }
   },
   "outputs": [
    {
     "name": "stdout",
     "output_type": "stream",
     "text": [
      "Collecting fptools\n",
      "  Downloading fptools-1.0-py2.py3-none-any.whl (5.2 kB)\n",
      "Installing collected packages: fptools\n",
      "Successfully installed fptools-1.0\n"
     ]
    }
   ],
   "source": [
    "# !pip install efficient_apriori\n",
    "# from efficient_apriori import apriori\n",
    "# !pip install mlxtend \n",
    "# !pip install fptools\n",
    "\n",
    "\n",
    "\n"
   ]
  }
 ],
 "metadata": {
  "kernelspec": {
   "display_name": "Python 3",
   "language": "python",
   "name": "python3"
  },
  "language_info": {
   "codemirror_mode": {
    "name": "ipython",
    "version": 3
   },
   "file_extension": ".py",
   "mimetype": "text/x-python",
   "name": "python",
   "nbconvert_exporter": "python",
   "pygments_lexer": "ipython3",
   "version": "3.8.3"
  },
  "toc": {
   "base_numbering": 1,
   "nav_menu": {},
   "number_sections": true,
   "sideBar": true,
   "skip_h1_title": false,
   "title_cell": "Table of Contents",
   "title_sidebar": "Contents",
   "toc_cell": false,
   "toc_position": {},
   "toc_section_display": true,
   "toc_window_display": false
  },
  "varInspector": {
   "cols": {
    "lenName": 16,
    "lenType": 16,
    "lenVar": 40
   },
   "kernels_config": {
    "python": {
     "delete_cmd_postfix": "",
     "delete_cmd_prefix": "del ",
     "library": "var_list.py",
     "varRefreshCmd": "print(var_dic_list())"
    },
    "r": {
     "delete_cmd_postfix": ") ",
     "delete_cmd_prefix": "rm(",
     "library": "var_list.r",
     "varRefreshCmd": "cat(var_dic_list()) "
    }
   },
   "types_to_exclude": [
    "module",
    "function",
    "builtin_function_or_method",
    "instance",
    "_Feature"
   ],
   "window_display": false
  }
 },
 "nbformat": 4,
 "nbformat_minor": 4
}
