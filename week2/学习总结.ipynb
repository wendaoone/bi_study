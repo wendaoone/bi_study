{
 "cells": [
  {
   "cell_type": "markdown",
   "metadata": {},
   "source": [
    "微信推荐的方法：种子用户-> 人群圈选 -> embedding -》人群放大"
   ]
  },
  {
   "cell_type": "markdown",
   "metadata": {},
   "source": [
    "参加kaggle 比赛对工作很有优势"
   ]
  },
  {
   "cell_type": "markdown",
   "metadata": {},
   "source": [
    "罗辑回归  xgboost  lightbm 算法"
   ]
  },
  {
   "cell_type": "markdown",
   "metadata": {},
   "source": [
    "推荐系统提升用户DAU\n",
    "\n"
   ]
  },
  {
   "cell_type": "markdown",
   "metadata": {},
   "source": []
  },
  {
   "cell_type": "markdown",
   "metadata": {},
   "source": []
  },
  {
   "cell_type": "code",
   "execution_count": 30,
   "metadata": {
    "ExecuteTime": {
     "end_time": "2020-11-14T09:18:53.722255Z",
     "start_time": "2020-11-14T09:18:48.365000Z"
    }
   },
   "outputs": [
    {
     "name": "stdout",
     "output_type": "stream",
     "text": [
      "Collecting fptools\n",
      "  Downloading fptools-1.0-py2.py3-none-any.whl (5.2 kB)\n",
      "Installing collected packages: fptools\n",
      "Successfully installed fptools-1.0\n"
     ]
    }
   ],
   "source": [
    "\n",
    "import pandas as pd\n",
    "import fptools as fp\n",
    "from mlxtend.preprocessing import TransactionEncoder\n",
    "from mlxtend.frequent_patterns import apriori\n",
    "from mlxtend.frequent_patterns import association_rules\n",
    "# 读取数据\n",
    "datas=pd.read_csv('./Market_Basket_Optimisation.csv',header=None)\n",
    "# 通过迭代器方式对pd读取出来的数据转成list数组，并且出去其中的nan\n",
    "itemsets = [[y for y in x if pd.notna(y)] for x in datas.values.tolist()]\n",
    "itemDits={}\n",
    "for items in itemsets:\n",
    "    for item in items:\n",
    "        if item not in itemDits.keys():\n",
    "            itemDits[item] = 1\n",
    "        else:\n",
    "            itemDits[item] = itemDits[item] + 1\n",
    "itemDits = sorted(itemDits.items(), key=lambda item:item[1], reverse=True)\n",
    "# print(itemDits)\n",
    "# tree,ranks=fp.build_tree(itemsets,356)\n",
    "# print(sorted(ranks, key=lambda item:item[1], reverse=True))\n",
    "# ss=fp.frequent_itemsets(itemsets,356)\n",
    "#\n",
    "# fis=[iset for iset in ss]\n",
    "# mfis=[iset for iset in fp.maximal_frequent_itemsets(itemsets,356)]\n",
    "\n",
    "# 转换为算法可接受模型（布尔值）one-hot操作\n",
    "te = TransactionEncoder()\n",
    "df_tf = te.fit_transform(itemsets)\n",
    "df = pd.DataFrame(df_tf, columns=te.columns_)\n",
    "\n",
    "# 设置支持度求频繁项集\n",
    "frequent_itemsets = apriori(df, min_support=0.02, use_colnames=True)\n",
    "# 求关联规则,设置最小置信度为0.15\n",
    "print(frequent_itemsets)\n",
    "rules = association_rules(frequent_itemsets,  min_threshold=0.15)\n",
    "# 设置最小提升度\n",
    "rules = rules.drop(rules[rules.lift < 1.0].index)\n",
    "# # 设置标题索引并打印结果\n",
    "rules.rename(columns={'antecedents': 'from', 'consequents': 'to', 'support': 'sup', 'confidence': 'conf'}, inplace=True)\n",
    "rules = rules[['from', 'to', 'sup', 'conf', 'lift']]\n",
    "print(rules)\n",
    "\n",
    "\n",
    "\n"
   ]
  }
 ],
 "metadata": {
  "kernelspec": {
   "display_name": "Python 3",
   "language": "python",
   "name": "python3"
  },
  "language_info": {
   "codemirror_mode": {
    "name": "ipython",
    "version": 3
   },
   "file_extension": ".py",
   "mimetype": "text/x-python",
   "name": "python",
   "nbconvert_exporter": "python",
   "pygments_lexer": "ipython3",
   "version": "3.8.3"
  },
  "toc": {
   "base_numbering": 1,
   "nav_menu": {},
   "number_sections": true,
   "sideBar": true,
   "skip_h1_title": false,
   "title_cell": "Table of Contents",
   "title_sidebar": "Contents",
   "toc_cell": false,
   "toc_position": {},
   "toc_section_display": true,
   "toc_window_display": false
  },
  "varInspector": {
   "cols": {
    "lenName": 16,
    "lenType": 16,
    "lenVar": 40
   },
   "kernels_config": {
    "python": {
     "delete_cmd_postfix": "",
     "delete_cmd_prefix": "del ",
     "library": "var_list.py",
     "varRefreshCmd": "print(var_dic_list())"
    },
    "r": {
     "delete_cmd_postfix": ") ",
     "delete_cmd_prefix": "rm(",
     "library": "var_list.r",
     "varRefreshCmd": "cat(var_dic_list()) "
    }
   },
   "types_to_exclude": [
    "module",
    "function",
    "builtin_function_or_method",
    "instance",
    "_Feature"
   ],
   "window_display": false
  }
 },
 "nbformat": 4,
 "nbformat_minor": 4
}
