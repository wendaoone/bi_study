{
 "cells": [
  {
   "cell_type": "markdown",
   "metadata": {
    "ExecuteTime": {
     "end_time": "2020-11-09T12:03:19.390689Z",
     "start_time": "2020-11-09T12:03:14.808524Z"
    }
   },
   "source": [
    "# Thinking1:关联规则中的支持度、置信度和提升度代表的什么，如何计算\n",
    "\n",
    "    \n",
    "   |     | 概念  | 公式  |\n",
    "   |  ----  | ----  |  ----  |\n",
    "   | 支持度  | 商品在指定交易集合中出现的次数 |商品次数/总交易次数 |\n",
    "   | 置信度  | 在商品A出现的情况下，商品b出现的概率，也就是商品B在有商品A出现的交易中出现的次数 |  商品AB同时出现的次数/商品A出现的次数 |\n",
    "   | 提升度  | 商品A和商品B同时出现时候，商品B对商品A的支持程度 |支持度/置信度 |\n",
    "    "
   ]
  },
  {
   "cell_type": "markdown",
   "metadata": {},
   "source": [
    "# Thinking2 关联规则与协同过滤的区别\n",
    "    \n",
    "     关联规则：是基于交易行为对物体固有的内部关系进行发掘，找出其频繁项集\n",
    "     协同过滤：是基于用户的历史行为习惯进行分析，挖掘用户喜好来进行推荐"
   ]
  },
  {
   "cell_type": "markdown",
   "metadata": {},
   "source": [
    "# Thinking3 为什么我们需要多种推荐算法\n",
    "\n",
    "   各种推荐算法都有其优点以及适用场景，比如在电商系统中，对于一些冷启动的用户或这商品，可以通过关联规则方式进行前期推荐，等到有一定的用户行为或用户对商品的操作反馈信息后，可以使用协同过滤的方式推荐。通过关联规则可以发掘一些整体上的宏观规律性质的信息，协同过滤更具有个性化的需求\n"
   ]
  },
  {
   "cell_type": "markdown",
   "metadata": {},
   "source": [
    "# Thinking4 关联规则中的最小支持度、最小置信度该如何确定\n",
    " \n",
    " 通过经验数据来设置，比如交易数据量很大，此时每个商品在总商品中出现的次数都很低，如果设置的最小支持度或者最小置信度过大，则很可能筛选不出任何结果\n",
    " 也可以将每个商品的支持度，置信度计算出来，从大到小排序，然后卡定符合业务需求的位置所对应的指出度或置信度为最小支持度或者最小置信度\n"
   ]
  },
  {
   "cell_type": "markdown",
   "metadata": {},
   "source": [
    "# Thinking5  都有哪些常见的回归分析方法，评价指标是什么\n",
    "\n",
    "  常见的回归分析方法有：一元线性回归，多元线性回归 非线性回归\n",
    "  评价指标是通过损失函数来评价的，有mse(更容易收敛)  MAE(可解释性更强) RMSE(既收敛又兼具可解释性)  R方值\n"
   ]
  },
  {
   "cell_type": "markdown",
   "metadata": {},
   "source": [
    "# Action1  针对MarketBasket数据集进行购物篮分析（频繁项集及关联规则挖掘）[kaggle](https://www.kaggle.com/dragonheir/basket-optimisation)\n",
    "         "
   ]
  },
  {
   "cell_type": "code",
   "execution_count": 53,
   "metadata": {
    "ExecuteTime": {
     "end_time": "2020-11-16T06:57:10.423705Z",
     "start_time": "2020-11-16T06:57:09.638203Z"
    }
   },
   "outputs": [
    {
     "name": "stdout",
     "output_type": "stream",
     "text": [
      "                   from                   to       sup      conf      lift\n",
      "52          (spaghetti)        (ground beef)  0.039195  0.225115  2.291162\n",
      "53        (ground beef)          (spaghetti)  0.039195  0.398915  2.291162\n",
      "67          (olive oil)          (spaghetti)  0.022930  0.348178  1.999758\n",
      "62               (soup)      (mineral water)  0.023064  0.456464  1.914955\n",
      "41  (frozen vegetables)               (milk)  0.023597  0.247552  1.910382\n",
      "40               (milk)  (frozen vegetables)  0.023597  0.182099  1.910382\n",
      "1             (burgers)               (eggs)  0.028796  0.330275  1.837830\n",
      "0                (eggs)            (burgers)  0.028796  0.160237  1.837830\n",
      "59          (olive oil)      (mineral water)  0.027596  0.419028  1.757904\n",
      "70           (tomatoes)          (spaghetti)  0.020931  0.306043  1.757755\n",
      "50      (mineral water)        (ground beef)  0.040928  0.171700  1.747522\n",
      "51        (ground beef)      (mineral water)  0.040928  0.416554  1.747522\n",
      "48        (ground beef)               (milk)  0.021997  0.223881  1.727704\n",
      "49               (milk)        (ground beef)  0.021997  0.169753  1.727704\n",
      "69             (shrimp)          (spaghetti)  0.021197  0.296642  1.703760\n",
      "44  (frozen vegetables)          (spaghetti)  0.027863  0.292308  1.678867\n",
      "43          (spaghetti)  (frozen vegetables)  0.027863  0.160031  1.678867\n",
      "20        (cooking oil)      (mineral water)  0.020131  0.394256  1.653978\n",
      "6             (chicken)      (mineral water)  0.022797  0.380000  1.594172\n",
      "42  (frozen vegetables)      (mineral water)  0.035729  0.374825  1.572463\n",
      "57          (spaghetti)               (milk)  0.035462  0.203675  1.571779\n",
      "58               (milk)          (spaghetti)  0.035462  0.273663  1.571779\n",
      "55      (mineral water)               (milk)  0.047994  0.201342  1.553774\n",
      "56               (milk)      (mineral water)  0.047994  0.370370  1.553774\n",
      "68           (pancakes)          (spaghetti)  0.025197  0.265077  1.522468\n",
      "15               (milk)          (chocolate)  0.032129  0.247942  1.513276\n",
      "14          (chocolate)               (milk)  0.032129  0.196094  1.513276\n",
      "65           (tomatoes)      (mineral water)  0.024397  0.356725  1.496530\n",
      "60           (pancakes)      (mineral water)  0.033729  0.354839  1.488616\n",
      "2             (burgers)       (french fries)  0.021997  0.252294  1.476173\n",
      "11  (frozen vegetables)          (chocolate)  0.022930  0.240559  1.468215\n",
      "66   (whole wheat rice)      (mineral water)  0.020131  0.343964  1.442993\n",
      "64      (mineral water)          (spaghetti)  0.059725  0.250559  1.439085\n",
      "63          (spaghetti)      (mineral water)  0.059725  0.343032  1.439085\n",
      "13        (ground beef)          (chocolate)  0.023064  0.234735  1.432669\n",
      "5                (cake)      (mineral water)  0.027463  0.338816  1.421397\n",
      "4             (burgers)          (spaghetti)  0.021464  0.246177  1.413918\n",
      "61             (shrimp)      (mineral water)  0.023597  0.330224  1.385352\n",
      "18          (spaghetti)          (chocolate)  0.039195  0.225115  1.373952\n",
      "19          (chocolate)          (spaghetti)  0.039195  0.239219  1.373952\n",
      "17          (chocolate)      (mineral water)  0.052660  0.321400  1.348332\n",
      "16      (mineral water)          (chocolate)  0.052660  0.220917  1.348332\n",
      "39    (frozen smoothie)      (mineral water)  0.020264  0.320000  1.342461\n",
      "26               (milk)               (eggs)  0.030796  0.237654  1.322437\n",
      "25               (eggs)               (milk)  0.030796  0.171365  1.322437\n",
      "54     (low fat yogurt)      (mineral water)  0.023997  0.313589  1.315565\n",
      "29           (pancakes)               (eggs)  0.021730  0.228612  1.272118\n",
      "23  (frozen vegetables)               (eggs)  0.021730  0.227972  1.268559\n",
      "32       (french fries)          (green tea)  0.028530  0.166927  1.263488\n",
      "33          (green tea)       (french fries)  0.028530  0.215943  1.263488\n",
      "36           (pancakes)       (french fries)  0.020131  0.211781  1.239135\n",
      "10          (chocolate)       (french fries)  0.034395  0.209927  1.228284\n",
      "9        (french fries)          (chocolate)  0.034395  0.201248  1.228284\n"
     ]
    }
   ],
   "source": [
    "'''\n",
    "通过mlxtend的apriori方式对数据进行分析\n",
    "'''\n",
    "\n",
    "import pandas as pd\n",
    "import fptools as fp\n",
    "from mlxtend.preprocessing import TransactionEncoder\n",
    "from mlxtend.frequent_patterns import apriori\n",
    "from mlxtend.frequent_patterns import association_rules\n",
    "# 读取数据\n",
    "datas=pd.read_csv('data/Market_Basket_Optimisation.csv',header=None)\n",
    "# 通过迭代器方式对pd读取出来的数据转成list数组，并且出去其中的nan\n",
    "itemsets = [[y for y in x if pd.notna(y)] for x in datas.values.tolist()]\n",
    "\n",
    "# 转换为算法可接受模型（布尔值）one-hot操作\n",
    "te = TransactionEncoder()\n",
    "df_tf = te.fit_transform(itemsets)\n",
    "df = pd.DataFrame(df_tf, columns=te.columns_)\n",
    "\n",
    "# 设置支持度求频繁项集\n",
    "frequent_itemsets = apriori(df, min_support=0.02, use_colnames=True)\n",
    "# 求关联规则,设置最小置信度为0.15\n",
    "rules = association_rules(frequent_itemsets,metric='confidence',  min_threshold=0.15)\n",
    "# 删除提升度小于1.2的关联项\n",
    "rules = rules.drop(rules[rules.lift < 1.2].index)\n",
    "# 对提升度由大到小排序\n",
    "rules = rules.sort_values(by=\"lift\",ascending=False) \n",
    "# # 设置标题索引并打印结果\n",
    "rules.rename(columns={'antecedents': 'from', 'consequents': 'to', 'support': 'sup', 'confidence': 'conf'}, inplace=True)\n",
    "rules = rules[['from', 'to', 'sup', 'conf', 'lift']]\n",
    "print(rules)\n",
    "\n"
   ]
  },
  {
   "cell_type": "markdown",
   "metadata": {},
   "source": []
  },
  {
   "cell_type": "code",
   "execution_count": null,
   "metadata": {},
   "outputs": [],
   "source": [
    "# itemDits={}\n",
    "# for items in itemsets:\n",
    "#     for item in items:\n",
    "#         if item not in itemDits.keys():\n",
    "#             itemDits[item] = 1\n",
    "#         else:\n",
    "#             itemDits[item] = itemDits[item] + 1\n",
    "# itemDits = sorted(itemDits.items(), key=lambda item:item[1], reverse=True)"
   ]
  },
  {
   "cell_type": "code",
   "execution_count": 58,
   "metadata": {
    "ExecuteTime": {
     "end_time": "2020-11-16T07:58:41.334689Z",
     "start_time": "2020-11-16T07:58:41.330979Z"
    }
   },
   "outputs": [
    {
     "name": "stdout",
     "output_type": "stream",
     "text": [
      "defaultdict(<class '__main__.FpNode'>, {})\n"
     ]
    }
   ],
   "source": [
    "#由于fptools没有文档，而案例中只能得到频繁项集，所以决定自己写一个fp-growth的实现\n",
    "# 定义树的结构，fpgrowth有基本要素有 1.节点编码 2.节点在交易中出现的次数 3. 父亲节点 孩子节点\n",
    "import collections\n",
    "class FpNode(object):\n",
    "    #构建节点\n",
    "    def __init__(self, code, count=1, parent=None):\n",
    "        self.code = code\n",
    "        self.count = count\n",
    "        self.parent = parent\n",
    "        #初始化子节点为空字典\n",
    "        self.children = collections.defaultdict(FPNode)\n",
    "        #如果父亲节点为空表明该节点为新的商品在新的交易中是所有交易中加购次数最多的并且是一次出现的\n",
    "        if parent != None:\n",
    "            parent.children[code] = self\n",
    "class Ftree(object):\n",
    "    def __init__(self, FpNode):\n",
    "        \n",
    "    #创建树\n",
    "    def createTree(self, FpNode):\n",
    "    \n",
    "\n",
    "print(collections.defaultdict(FpNode))\n",
    "\n",
    "# 读取表格数据\n",
    "\n",
    "\n",
    "\n",
    "\n",
    "\n",
    "\n"
   ]
  },
  {
   "cell_type": "raw",
   "metadata": {},
   "source": []
  },
  {
   "cell_type": "raw",
   "metadata": {},
   "source": []
  },
  {
   "cell_type": "raw",
   "metadata": {},
   "source": []
  },
  {
   "cell_type": "raw",
   "metadata": {},
   "source": []
  },
  {
   "cell_type": "raw",
   "metadata": {},
   "source": []
  },
  {
   "cell_type": "raw",
   "metadata": {},
   "source": []
  }
 ],
 "metadata": {
  "kernelspec": {
   "display_name": "Python 3",
   "language": "python",
   "name": "python3"
  },
  "language_info": {
   "codemirror_mode": {
    "name": "ipython",
    "version": 3
   },
   "file_extension": ".py",
   "mimetype": "text/x-python",
   "name": "python",
   "nbconvert_exporter": "python",
   "pygments_lexer": "ipython3",
   "version": "3.8.3"
  },
  "toc": {
   "base_numbering": 1,
   "nav_menu": {},
   "number_sections": true,
   "sideBar": true,
   "skip_h1_title": false,
   "title_cell": "Table of Contents",
   "title_sidebar": "Contents",
   "toc_cell": false,
   "toc_position": {},
   "toc_section_display": true,
   "toc_window_display": false
  },
  "varInspector": {
   "cols": {
    "lenName": 16,
    "lenType": 16,
    "lenVar": 40
   },
   "kernels_config": {
    "python": {
     "delete_cmd_postfix": "",
     "delete_cmd_prefix": "del ",
     "library": "var_list.py",
     "varRefreshCmd": "print(var_dic_list())"
    },
    "r": {
     "delete_cmd_postfix": ") ",
     "delete_cmd_prefix": "rm(",
     "library": "var_list.r",
     "varRefreshCmd": "cat(var_dic_list()) "
    }
   },
   "types_to_exclude": [
    "module",
    "function",
    "builtin_function_or_method",
    "instance",
    "_Feature"
   ],
   "window_display": false
  }
 },
 "nbformat": 4,
 "nbformat_minor": 4
}
