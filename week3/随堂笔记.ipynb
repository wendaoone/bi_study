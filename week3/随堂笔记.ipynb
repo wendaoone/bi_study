{
 "cells": [
  {
   "cell_type": "markdown",
   "metadata": {},
   "source": [
    "# 推荐系统之用户画像"
   ]
  },
  {
   "cell_type": "markdown",
   "metadata": {},
   "source": [
    " ## 什么是用户画像\n",
    "     用户画像是指根据用户的属性、偏好、行为、生活习惯、等信息来对用户进行打标签。它在日常生活工作中都有重要应用：\n",
    "     \n",
    "     （1）精准营销：根据历史用户特征，分析产品的潜在用户和用户的潜在需求，针对特定群体，利用短信、邮件等方式进行营销\n",
    "\n",
    "     （2）用户统计：根据用户的属性、行为特征对用户进行分类后，统计不同特征下的用户数量、分布；分析不同用户画像群体的分布特征\n",
    "\n",
    "     （3）数据挖掘：以用户画像为基础构建推荐系统、搜索引擎、广告投放系统，提升服务精准度\n",
    "\n",
    "     （4）服务产品：对产品进行用户画像，对产品进行受众分析，更透彻地理解用户使用产品的心理动机和行为习惯，完善产品运营，提升服务质量\n",
    "\n",
    "     （5）行业报告&用户研究：通过用户画像分析可以了解行业动态，如人群消费习惯、消费偏好分析、不同地域品类消费差异分析\n",
    "     \n",
    "     不同群体眼中有不同的定义：\n",
    "         \n",
    "  |     | 概念  |\n",
    "  |  :----  | ----:  |\n",
    "  | 领导  | 某个群体需求 |\n",
    "  | 产品  | 群体 |\n",
    "  | 开发  | 牛奶、尿布、啤酒、鸡蛋 |\n",
    "  | 运营  | 面包、牛奶、尿布、啤酒 |\n",
    "  | 订单5  | 面包、牛奶、尿布、可乐 |\n",
    "     \n",
    "     \n",
    " \n",
    " \n",
    " ## 如何定义标签 \n",
    " ## 如何打标签，\n",
    " ## 如何给用户推荐标签\n",
    " ## 让用户打标签\n",
    " \n",
    " \n",
    " \n",
    "用户画像三个标准：都是谁 1.统一标识（整个用户画像的核心） 2.给用户打标签（四个纬度） 3 基于标签指导业务\n",
    "    从哪来 到哪去\n",
    " \n",
    " 八字准则：用户消费行为标签\n",
    " 用户标签：性别/年龄\n",
    " 消费标签：\n",
    " 行为标签：分为隐形和显性行为\n",
    " 内容标签(兴趣标签)：\n",
    " \n",
    " \n",
    " 用户生命周期： 获客、粘客（日活用户，平均时长dau）、留客\n",
    " \n",
    " 数据流\n",
    " \n",
    " 原始数据 =》算法层=》业务层\n",
    " \n",
    " \n",
    " \n",
    " PGC 专家打标签     质量高 数量少\n",
    " UGC 普通用户打标签  质量低 数量大  一致性低\n",
    " \n",
    " \n",
    "大量数据需要打标签/缺乏分类标签 算法：\n",
    "  聚类算法means  o(n*m*k) 其中n为：数据量 m为feature k为标签数量  特别海量数据可以采用分桶或者树结构或者随机投影森林\n",
    "          数据归一化/z-score/小数一定定标法\n",
    "  EM 算法\n",
    "  GMM算法\n",
    "  \n",
    "  \n",
    " 如何使用标签：\n",
    "      singleTagBased算法原理、使用方式\n",
    "      评价指标\n",
    " "
   ]
  },
  {
   "cell_type": "markdown",
   "metadata": {},
   "source": [
    "# 数据清洗的原则是什么"
   ]
  },
  {
   "cell_type": "markdown",
   "metadata": {},
   "source": [
    "# 如何进行数据清洗"
   ]
  },
  {
   "cell_type": "raw",
   "metadata": {},
   "source": []
  },
  {
   "cell_type": "raw",
   "metadata": {},
   "source": []
  },
  {
   "cell_type": "raw",
   "metadata": {},
   "source": []
  },
  {
   "cell_type": "raw",
   "metadata": {},
   "source": []
  },
  {
   "cell_type": "raw",
   "metadata": {},
   "source": []
  },
  {
   "cell_type": "raw",
   "metadata": {},
   "source": []
  },
  {
   "cell_type": "raw",
   "metadata": {},
   "source": []
  },
  {
   "cell_type": "raw",
   "metadata": {},
   "source": []
  },
  {
   "cell_type": "raw",
   "metadata": {},
   "source": []
  },
  {
   "cell_type": "raw",
   "metadata": {},
   "source": []
  },
  {
   "cell_type": "raw",
   "metadata": {},
   "source": []
  },
  {
   "cell_type": "raw",
   "metadata": {},
   "source": []
  },
  {
   "cell_type": "raw",
   "metadata": {},
   "source": []
  },
  {
   "cell_type": "raw",
   "metadata": {},
   "source": []
  },
  {
   "cell_type": "raw",
   "metadata": {},
   "source": []
  },
  {
   "cell_type": "raw",
   "metadata": {},
   "source": []
  },
  {
   "cell_type": "raw",
   "metadata": {},
   "source": []
  },
  {
   "cell_type": "raw",
   "metadata": {},
   "source": []
  }
 ],
 "metadata": {
  "kernelspec": {
   "display_name": "Python 3",
   "language": "python",
   "name": "python3"
  },
  "language_info": {
   "codemirror_mode": {
    "name": "ipython",
    "version": 3
   },
   "file_extension": ".py",
   "mimetype": "text/x-python",
   "name": "python",
   "nbconvert_exporter": "python",
   "pygments_lexer": "ipython3",
   "version": "3.8.3"
  },
  "toc": {
   "base_numbering": 1,
   "nav_menu": {},
   "number_sections": true,
   "sideBar": true,
   "skip_h1_title": false,
   "title_cell": "Table of Contents",
   "title_sidebar": "Contents",
   "toc_cell": false,
   "toc_position": {},
   "toc_section_display": true,
   "toc_window_display": false
  },
  "varInspector": {
   "cols": {
    "lenName": 16,
    "lenType": 16,
    "lenVar": 40
   },
   "kernels_config": {
    "python": {
     "delete_cmd_postfix": "",
     "delete_cmd_prefix": "del ",
     "library": "var_list.py",
     "varRefreshCmd": "print(var_dic_list())"
    },
    "r": {
     "delete_cmd_postfix": ") ",
     "delete_cmd_prefix": "rm(",
     "library": "var_list.r",
     "varRefreshCmd": "cat(var_dic_list()) "
    }
   },
   "types_to_exclude": [
    "module",
    "function",
    "builtin_function_or_method",
    "instance",
    "_Feature"
   ],
   "window_display": false
  }
 },
 "nbformat": 4,
 "nbformat_minor": 4
}
