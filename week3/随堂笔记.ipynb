{
 "cells": [
  {
   "cell_type": "markdown",
   "metadata": {},
   "source": [
    "# 推荐系统之用户画像"
   ]
  },
  {
   "cell_type": "markdown",
   "metadata": {},
   "source": [
    " ## 什么是用户画像\n",
    "     用户画像是指根据用户的属性、偏好、行为、生活习惯等信息来对用户进行打标签。它在日常生活工作中都有重要应用：\n",
    "     \n",
    "     （1）精准营销：根据历史用户特征，分析产品的潜在用户和用户的潜在需求，针对特定群体，利用短信、邮件等方式进行营销\n",
    "\n",
    "     （2）用户统计：根据用户的属性、行为特征对用户进行分类后，统计不同特征下的用户数量、分布；分析不同用户画像群体的分布特征\n",
    "\n",
    "     （3）数据挖掘：以用户画像为基础构建推荐系统、搜索引擎、广告投放系统，提升服务精准度\n",
    "\n",
    "     （4）服务产品：对产品进行用户画像，对产品进行受众分析，更透彻地理解用户使用产品的心理动机和行为习惯，完善产品运营，提升服务质量\n",
    "\n",
    "     （5）行业报告&用户研究：通过用户画像分析可以了解行业动态，如人群消费习惯、消费偏好分析、不同地域品类消费差异分析\n",
    "     \n",
    " \n",
    "     \n",
    " \n",
    " \n",
    " ## 如何定义标签 \n",
    "     定义标签就是构建用户画像的过程，它主要解决的是人生三大哲学问题：\n",
    "         都是谁： 用户自身属性，如：身高，体重，性别，学历，籍贯,支付习惯，上网设备，\n",
    "         从哪来 ： 对电商而言，有百度，谷歌，各大门户网站，贴吧，博客，直接进入等\n",
    "         到哪去： 用户在系统中都做了些什么\n",
    "     用户标签的三大准则：\n",
    "         1.统一用户标识\n",
    "         2.给用户打标签\n",
    "         3.用标签知道业务\n",
    "   \n",
    " ## 如何打标签，\n",
    "     可以通过人工打标签\n",
    "            PGC专家标签：效率低，质量高\n",
    "            UGC用户标签：数量大，质量低，数据不统一\n",
    "     通过算法挖掘标签：如 K-Means，EM聚类，Mean-Shift，DBSCAN，层次聚类，PCA等聚类算法\n"
   ]
  },
  {
   "cell_type": "markdown",
   "metadata": {},
   "source": [
    "## 标签挖掘算法\n",
    " \n",
    " 聚类算法means：\n",
    "         步骤：是一种基于划分的聚类方法，选取初始中心点-启发式迭代-达到停止条件，其中在k-means中初始中心点的选择即是根据欲聚类的个数随机挑选，启发式迭代是衡量每个点与选取点的距离，并选择最小点鬼为一类，在对该类求平均，作为下次巨累的中心位置，停止条件是类中心点位置变化不大或者达到迭代次数阈值。其时间复杂度为o(n*m*k) 其中n为：数据量 m为feature k为标签数量，对于海量数据，为了提高效率可以使用分桶或者树结构或者随机投影森林\n",
    "         优点：对于大数据集，k-means算法相对是可伸缩和高效的，它的计算复杂度接近线性\n",
    "         缺点：初始中心点和离群点的影响每次的结果不稳定，结果通常不是全局最优而是局部最优解、无法很好地解决数据簇分布差别比较大的情况（比如一类是另外一类样本数量的10倍）、不太适用于离散分类、只适用于规则形状的中心簇等。但是瑕不掩瑜，它仍有很多优点：，尽管它通常以局部最优结束迭代，但一般情况下达到的局部最优也可以满足需求\n",
    "  EM 算法：\n",
    "  GMM算法\n",
    "  \n",
    "  \n",
    " 如何使用标签：\n",
    "      singleTagBased算法原理、使用方式\n",
    "      评价指标\n",
    " "
   ]
  },
  {
   "cell_type": "markdown",
   "metadata": {},
   "source": [
    "# 数据清洗的原则是什么"
   ]
  },
  {
   "cell_type": "markdown",
   "metadata": {},
   "source": [
    "# 如何进行数据清洗"
   ]
  },
  {
   "cell_type": "raw",
   "metadata": {},
   "source": []
  },
  {
   "cell_type": "raw",
   "metadata": {},
   "source": []
  },
  {
   "cell_type": "raw",
   "metadata": {},
   "source": []
  },
  {
   "cell_type": "raw",
   "metadata": {},
   "source": []
  },
  {
   "cell_type": "raw",
   "metadata": {},
   "source": []
  },
  {
   "cell_type": "raw",
   "metadata": {},
   "source": []
  },
  {
   "cell_type": "raw",
   "metadata": {},
   "source": []
  },
  {
   "cell_type": "raw",
   "metadata": {},
   "source": []
  },
  {
   "cell_type": "raw",
   "metadata": {},
   "source": []
  },
  {
   "cell_type": "raw",
   "metadata": {},
   "source": []
  },
  {
   "cell_type": "raw",
   "metadata": {},
   "source": []
  },
  {
   "cell_type": "raw",
   "metadata": {},
   "source": []
  },
  {
   "cell_type": "raw",
   "metadata": {},
   "source": []
  },
  {
   "cell_type": "raw",
   "metadata": {},
   "source": []
  },
  {
   "cell_type": "raw",
   "metadata": {},
   "source": []
  },
  {
   "cell_type": "raw",
   "metadata": {},
   "source": []
  },
  {
   "cell_type": "raw",
   "metadata": {},
   "source": []
  },
  {
   "cell_type": "raw",
   "metadata": {},
   "source": []
  }
 ],
 "metadata": {
  "kernelspec": {
   "display_name": "Python 3",
   "language": "python",
   "name": "python3"
  },
  "language_info": {
   "codemirror_mode": {
    "name": "ipython",
    "version": 3
   },
   "file_extension": ".py",
   "mimetype": "text/x-python",
   "name": "python",
   "nbconvert_exporter": "python",
   "pygments_lexer": "ipython3",
   "version": "3.8.3"
  },
  "toc": {
   "base_numbering": 1,
   "nav_menu": {},
   "number_sections": true,
   "sideBar": true,
   "skip_h1_title": false,
   "title_cell": "Table of Contents",
   "title_sidebar": "Contents",
   "toc_cell": false,
   "toc_position": {},
   "toc_section_display": true,
   "toc_window_display": false
  },
  "varInspector": {
   "cols": {
    "lenName": 16,
    "lenType": 16,
    "lenVar": 40
   },
   "kernels_config": {
    "python": {
     "delete_cmd_postfix": "",
     "delete_cmd_prefix": "del ",
     "library": "var_list.py",
     "varRefreshCmd": "print(var_dic_list())"
    },
    "r": {
     "delete_cmd_postfix": ") ",
     "delete_cmd_prefix": "rm(",
     "library": "var_list.r",
     "varRefreshCmd": "cat(var_dic_list()) "
    }
   },
   "types_to_exclude": [
    "module",
    "function",
    "builtin_function_or_method",
    "instance",
    "_Feature"
   ],
   "window_display": false
  }
 },
 "nbformat": 4,
 "nbformat_minor": 4
}
