{
 "cells": [
  {
   "cell_type": "markdown",
   "metadata": {},
   "source": [
    "# Thinking"
   ]
  },
  {
   "cell_type": "markdown",
   "metadata": {},
   "source": [
    "## 如何使用用户标签来指导业务（如何提升业务）\n",
    "    可以使用用户标签实现精准营销，分析产品的潜在用户和用户的潜在需求，构建搜索引擎，广告投放系统来提升服务精准度，理解用户使用产品的心理动机和行为习惯，完善产品运营，提升服务质量，达到产品获客、黏客、留客目的"
   ]
  },
  {
   "cell_type": "markdown",
   "metadata": {},
   "source": [
    "## 如果给你一堆用户数据，没有打标签。你该如何处理\n",
    "\n",
    "  1. 可以找一些专家对其中部分数据打标签，然后通过机器学习分类方法对剩余数据打标签打标签\n",
    "  2. 通过系统生成一批问卷调查，让用户对这批数据打标签\n",
    "  3. 通过聚类方法设定标签数量，来对数据自动打标签\n"
   ]
  },
  {
   "cell_type": "markdown",
   "metadata": {},
   "source": [
    "## 准确率和精确率有何不同（评估指标）\n",
    "   准确率是混合矩阵中对数据预测正确的概率，它是结果为1的正确预测概率和结果为0的正确预测概率之和，用于表示被分对的样本数除以所有的样本数\n",
    "   精确率是混合矩阵中对正向目标数据中预测正确的概率，它是结果为1的样本数占实际样本数量的概率 用于表示在被所有预测为正的样本中实际为正样本的概率"
   ]
  },
  {
   "attachments": {},
   "cell_type": "markdown",
   "metadata": {},
   "source": [
    "## 如果你使用大众点评，想要给某个餐厅打标签。这时系统可以自动提示一些标签，你会如何设计（标签推荐）"
   ]
  },
  {
   "cell_type": "markdown",
   "metadata": {
    "ExecuteTime": {
     "end_time": "2020-11-26T02:59:35.952307Z",
     "start_time": "2020-11-26T02:59:35.932416Z"
    }
   },
   "source": [
    "## 我们今天使用了10种方式来解MNIST，这些方法有何不同？你还有其他方法来解决MNIST识别问题么（分类方法）"
   ]
  }
 ],
 "metadata": {
  "kernelspec": {
   "display_name": "Python 3",
   "language": "python",
   "name": "python3"
  },
  "language_info": {
   "codemirror_mode": {
    "name": "ipython",
    "version": 3
   },
   "file_extension": ".py",
   "mimetype": "text/x-python",
   "name": "python",
   "nbconvert_exporter": "python",
   "pygments_lexer": "ipython3",
   "version": "3.8.3"
  },
  "toc": {
   "base_numbering": 1,
   "nav_menu": {},
   "number_sections": true,
   "sideBar": true,
   "skip_h1_title": false,
   "title_cell": "Table of Contents",
   "title_sidebar": "Contents",
   "toc_cell": false,
   "toc_position": {},
   "toc_section_display": true,
   "toc_window_display": false
  },
  "varInspector": {
   "cols": {
    "lenName": 16,
    "lenType": 16,
    "lenVar": 40
   },
   "kernels_config": {
    "python": {
     "delete_cmd_postfix": "",
     "delete_cmd_prefix": "del ",
     "library": "var_list.py",
     "varRefreshCmd": "print(var_dic_list())"
    },
    "r": {
     "delete_cmd_postfix": ") ",
     "delete_cmd_prefix": "rm(",
     "library": "var_list.r",
     "varRefreshCmd": "cat(var_dic_list()) "
    }
   },
   "types_to_exclude": [
    "module",
    "function",
    "builtin_function_or_method",
    "instance",
    "_Feature"
   ],
   "window_display": false
  }
 },
 "nbformat": 4,
 "nbformat_minor": 4
}
