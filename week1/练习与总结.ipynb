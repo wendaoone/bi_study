{
 "cells": [
  {
   "cell_type": "markdown",
   "metadata": {},
   "source": [
    "# 随堂笔记"
   ]
  },
  {
   "cell_type": "markdown",
   "metadata": {},
   "source": [
    "## 人工智能概述"
   ]
  },
  {
   "cell_type": "markdown",
   "metadata": {},
   "source": [
    "### 人工智能概念\n",
    "    人工智能是一个end-to-end的端到端系统，它主要是利用海量数据来解决人们生活中的各种需求问题。因此在工作中想要更好解决需求，需要深入业务，理解整个业务的本质，发现其关键业务指标，才能选择出合适的模型，提升准确率"
   ]
  },
  {
   "cell_type": "markdown",
   "metadata": {},
   "source": [
    "### 机器学习步骤\n",
    "![avatar](./images/1.png)\n",
    "\n",
    "    \n",
    "    数据预处理是对数据进行纬度筛选，归一化处理，空值异常值处理等\n",
    "    机器学习本质方式是对各种纬度特征计算出其总体最优权重w和偏移量b，使得损失值最小，从而达到预测。\n",
    "####    在机器学习过程中容易出现的两个问题：\n",
    "        1.过拟合：增加训练的数据量，降低模型复杂度/降低纬度\n",
    "        2.欠拟合：提高特征数量和质量，增加模型复杂度/增加纬度\n",
    "####    评价模型好坏的损失函数概念，\n",
    "        损失函数是用来表现预测与实际数据的差距程度\n",
    "        其关系图如下\n",
    "   ![avatar](./images/2.png)\n",
    "         数学表达式为：$L(Y,f(x))=|Y-f(x)|$为使得后续处理通常会写成：$L(Y,f(x))=(Y-f(x))^2$"
   ]
  },
  {
   "cell_type": "markdown",
   "metadata": {},
   "source": [
    " ###   机器学习四个重要概念，什么是回归问题，什么是分类问题，什么是线性分类，什么是逻辑分类？\n",
    "    回归问题：因变量是连续\n",
    "    分类模型：因变量是离散值\n",
    "    线性回归：是回归问题\n",
    "    逻辑回归：是分类问题，因为它是通过sigmod把因变量实数域从负无穷到正无穷映射到了0，1之间，中间设置阈值如0.5 大于0.5值为1 小于0.5值为0\n",
    "    举例：判断杯子里的是水还是饮料是分类问题，使用逻辑回归"
   ]
  },
  {
   "cell_type": "markdown",
   "metadata": {},
   "source": [
    "### 十大经典模型\n",
    "   分类算法： c4.5，朴素贝叶斯，svm，knn，adaboost，catr  （如：女孩是什么类别，萝莉？御姐？）\n",
    "   \n",
    "  聚类算法：  k-means，em  （如：关注五万女孩，把他们通过一些特征指定数量的标签类别，然后只需要关注）\n",
    "  \n",
    "  关联算法：  apriori  如纸尿裤和啤酒 或者 找闺蜜过程\n",
    "  \n",
    "  连接算法：  pageRank  百度/google网页排序排名算法，或者社交排序（影响力模型，找出关键人物），textrank 文字排名\n",
    "             \n",
    "  \n",
    "\n",
    "\n",
    "\n",
    "\n"
   ]
  },
  {
   "cell_type": "markdown",
   "metadata": {},
   "source": [
    "\n",
    "  \n"
   ]
  },
  {
   "cell_type": "markdown",
   "metadata": {},
   "source": [
    "### 深度学习概念、类别、开源框架\n",
    "   ![avatar](./images/3.png)   "
   ]
  },
  {
   "cell_type": "markdown",
   "metadata": {},
   "source": [
    "## 推荐系统简介"
   ]
  },
  {
   "cell_type": "markdown",
   "metadata": {},
   "source": [
    "### 推荐系统两种推荐方式\n",
    "内容推荐：基于商品的本质物理属性推荐\n",
    "![avatar](./images/4.png)\n",
    "\n",
    "协同过滤：获取与其相类似的人，查看相似用户的爱好来推荐\n",
    "\n",
    "   userCF：和你喜好相同的人，推荐他们喜欢的商品\n",
    "   ![avatar](./images/5.png)\n",
    "   itemCF：给用户推荐相似用户共同喜欢过的商品的相似商品\n",
    "   ![avatar](./images/6.png)"
   ]
  },
  {
   "cell_type": "markdown",
   "metadata": {},
   "source": [
    "### 推荐系统常遇到的问题(冷启动问题)：\n",
    "   用户冷启动：新用户\n",
    "   物品冷启动：新物品\n",
    "   系统冷启动：新系统上线\n",
    "   \n",
    "   冷启动解决方式：推荐热点，用户自己选择打标签，EE（利用和探索）方式通过最小尝试次数获取用户喜欢内容"
   ]
  },
  {
   "cell_type": "markdown",
   "metadata": {},
   "source": [
    "### 评测指标：\n",
    "    评测指标一般是由业务产生，常见的评测指标如下：\n",
    "    预测准确性 覆盖率（马太效应） 多样性 用户满意度  惊喜  实效性等\n",
    "   "
   ]
  },
  {
   "cell_type": "markdown",
   "metadata": {},
   "source": [
    "### 推荐系统架构设计\n",
    "   数据源\n",
    "   召回  粗选（不同于机器学习中的recall）\n",
    "   排序  精选\n",
    " \n",
    " aistudio.baidu.com/aistudio/compation/detail/21"
   ]
  },
  {
   "cell_type": "raw",
   "metadata": {},
   "source": []
  },
  {
   "cell_type": "raw",
   "metadata": {},
   "source": []
  },
  {
   "cell_type": "raw",
   "metadata": {},
   "source": []
  },
  {
   "cell_type": "raw",
   "metadata": {},
   "source": [
    "\n"
   ]
  },
  {
   "cell_type": "raw",
   "metadata": {},
   "source": []
  },
  {
   "cell_type": "raw",
   "metadata": {},
   "source": []
  },
  {
   "cell_type": "raw",
   "metadata": {},
   "source": []
  }
 ],
 "metadata": {
  "kernelspec": {
   "display_name": "Python 3",
   "language": "python",
   "name": "python3"
  },
  "language_info": {
   "codemirror_mode": {
    "name": "ipython",
    "version": 3
   },
   "file_extension": ".py",
   "mimetype": "text/x-python",
   "name": "python",
   "nbconvert_exporter": "python",
   "pygments_lexer": "ipython3",
   "version": "3.8.3"
  },
  "toc": {
   "base_numbering": 1,
   "nav_menu": {},
   "number_sections": true,
   "sideBar": true,
   "skip_h1_title": false,
   "title_cell": "Table of Contents",
   "title_sidebar": "Contents",
   "toc_cell": false,
   "toc_position": {
    "height": "calc(100% - 180px)",
    "left": "10px",
    "top": "150px",
    "width": "358.391px"
   },
   "toc_section_display": true,
   "toc_window_display": true
  },
  "varInspector": {
   "cols": {
    "lenName": 16,
    "lenType": 16,
    "lenVar": 40
   },
   "kernels_config": {
    "python": {
     "delete_cmd_postfix": "",
     "delete_cmd_prefix": "del ",
     "library": "var_list.py",
     "varRefreshCmd": "print(var_dic_list())"
    },
    "r": {
     "delete_cmd_postfix": ") ",
     "delete_cmd_prefix": "rm(",
     "library": "var_list.r",
     "varRefreshCmd": "cat(var_dic_list()) "
    }
   },
   "types_to_exclude": [
    "module",
    "function",
    "builtin_function_or_method",
    "instance",
    "_Feature"
   ],
   "window_display": false
  }
 },
 "nbformat": 4,
 "nbformat_minor": 4
}
