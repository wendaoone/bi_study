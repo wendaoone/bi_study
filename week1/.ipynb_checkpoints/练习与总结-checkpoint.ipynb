{
 "cells": [
  {
   "cell_type": "markdown",
   "metadata": {},
   "source": [
    "# 随堂笔记"
   ]
  },
  {
   "cell_type": "markdown",
   "metadata": {},
   "source": [
    "## 人工智能概述"
   ]
  },
  {
   "cell_type": "markdown",
   "metadata": {},
   "source": [
    "### 人工智能概念\n",
    "    人工智能是一个end-to-end的端到端系统，它主要是利用海量数据来解决人们生活中的各种需求问题。因此在工作中想要更好解决需求，需要深入业务，理解整个业务的本质，发现其关键业务指标，才能选择出合适的模型，提升准确率"
   ]
  },
  {
   "cell_type": "markdown",
   "metadata": {},
   "source": [
    "### 机器学习步骤\n",
    "![avatar](./images/1.png)\n",
    "\n",
    "    \n",
    "    数据预处理是对数据进行纬度筛选，归一化处理，空值异常值处理等\n",
    "    机器学习本质方式是对各种纬度特征计算出其总体最优权重w和偏移量b，使得损失值最小，从而达到预测。\n",
    "####    在机器学习过程中容易出现的两个问题：\n",
    "        1.过拟合：增加训练的数据量，降低模型复杂度/降低纬度\n",
    "        2.欠拟合：提高特征数量和质量，增加模型复杂度/增加纬度\n",
    "####    评价模型好坏的损失函数概念，\n",
    "        损失函数是用来表现预测与实际数据的差距程度\n",
    "        其关系图如下\n",
    "   ![avatar](./images/2.png)\n",
    "         数学表达式为：$L(Y,f(x))=|Y-f(x)|$为使得后续处理通常会写成：$L(Y,f(x))=(Y-f(x))^2$"
   ]
  },
  {
   "cell_type": "markdown",
   "metadata": {},
   "source": [
    " ###   机器学习四个重要概念，什么是回归问题，什么是分类问题，什么是线性分类，什么是逻辑分类？\n",
    "    回归问题：因变量是连续\n",
    "    分类模型：因变量是离散值\n",
    "    线性回归：是回归问题\n",
    "    逻辑回归：是分类问题，因为它是通过sigmod把因变量实数域从负无穷到正无穷映射到了0，1之间，中间设置阈值如0.5 大于0.5值为1 小于0.5值为0\n",
    "    举例：判断杯子里的是水还是饮料是分类问题，使用逻辑回归"
   ]
  },
  {
   "cell_type": "markdown",
   "metadata": {},
   "source": [
    "### 十大经典模型\n",
    "   分类算法： c4.5，朴素贝叶斯，svm，knn，adaboost，catr  （如：女孩是什么类别，萝莉？御姐？）\n",
    "   \n",
    "  聚类算法：  k-means，em  （如：关注五万女孩，把他们通过一些特征指定数量的标签类别，然后只需要关注）\n",
    "  \n",
    "  关联算法：  apriori  如纸尿裤和啤酒 或者 找闺蜜过程\n",
    "  \n",
    "  连接算法：  pageRank  百度/google网页排序排名算法，或者社交排序（影响力模型，找出关键人物），textrank 文字排名\n",
    "             \n",
    "  \n",
    "\n",
    "\n",
    "\n",
    "\n"
   ]
  },
  {
   "cell_type": "markdown",
   "metadata": {},
   "source": [
    "\n",
    "  \n"
   ]
  },
  {
   "cell_type": "markdown",
   "metadata": {},
   "source": [
    "### 深度学习概念、类别、开源框架\n",
    "   ![avatar](./images/3.png)   "
   ]
  },
  {
   "cell_type": "markdown",
   "metadata": {},
   "source": [
    "## 推荐系统简介"
   ]
  },
  {
   "cell_type": "raw",
   "metadata": {},
   "source": [
    "内容推荐：基于商品的本质物理属性推荐\n",
    "协同过滤：获取与其相类似的人，查看相似用户的爱好来推荐\n",
    "   userCF：和你喜好相同的人，推荐他们喜欢的商品\n",
    "   itemCF：给用户推荐相似用户共同喜欢过的商品的相似商品"
   ]
  },
  {
   "cell_type": "raw",
   "metadata": {},
   "source": [
    "冷启动问题：\n",
    "   用户冷启动：新用户\n",
    "   物品冷启动：新物品\n",
    "   系统冷启动：新系统上线\n",
    "   \n",
    "   推荐热点，用户自己选择打标签，EE（利用和探索）方式通过最小尝试次数获取用户喜欢内容\n",
    "   \n",
    "   机器学习中有个重要内容有个loss 损失值（累计后悔）\n",
    "   \n",
    "      R(T)= 求和（wopt-w(bi)）  wopt 目标值  wbi 真实值\n",
    "      \n",
    "   具体算法有 Epsilon-Greedy  Thomposn sampling UCB linkUCB\n",
    "   \n",
    "   alphago采用了UCB方法： UCB=Q（已有的结论） +U\n",
    "      U=c*p + 开方（求和）"
   ]
  },
  {
   "cell_type": "raw",
   "metadata": {},
   "source": [
    "评测指标：\n",
    "   预测准确性 覆盖率（马太效应） 多样性 用户满意度  惊喜  实效性等  评测指标一般是由业务产生\n",
    "   CTR  CVR GPM GMV\n",
    "   "
   ]
  },
  {
   "cell_type": "raw",
   "metadata": {},
   "source": [
    "推荐系统目标定义  根据使用场景不同目的不同"
   ]
  },
  {
   "cell_type": "raw",
   "metadata": {},
   "source": [
    "推荐系统设计方式\n",
    "   数据源\n",
    "   召回  粗选（不同于机器学习中的recall）\n",
    "   排序  精选\n",
    " \n",
    " aistudio.baidu.com/aistudio/compation/detail/21"
   ]
  },
  {
   "cell_type": "raw",
   "metadata": {},
   "source": [
    "无法归纳信息"
   ]
  },
  {
   "cell_type": "raw",
   "metadata": {},
   "source": [
    " 很多时候准确率很低，很有可能是因为没有找到关键特征\n",
    "    在拟合过程中可能遇到数据质量低，伪标签问题，因为标签很多时候是人打的，每个人的理解可能不一样，所以标签也不一样，表象为欠拟合、过拟合\n",
    "    多纬度可以更好的拟合真实情况，但是也容易过拟合（特征愈多，越容易过拟合）\n",
    "    \n",
    "    所有数据都做训练容易不知道结果怎样，但是切分一部分数据出去做验证，容易造成数据浪费，所以可以使用fflod，把数据分成k份，交叉训练验证。\n",
    "    评估完成后可以用调整超参数：epoch  学习率等\n",
    "    学习率是学习速度，学习步长\n",
    "    梯度下降代表学习方向"
   ]
  },
  {
   "cell_type": "raw",
   "metadata": {},
   "source": [
    "  1.如何预测房价\n",
    "     面积，教育资源，地理位置\n",
    "     只看面积的话 可以使用最小二乘法，每个点到直线的最小距离的平方和最小（y=wx+b）机器会先随机生成一组w b，构建出模型然后评估出最优的\n",
    "     \n",
    "    非线性模型如逻辑 决策树 svm\n",
    "    \n",
    "    机器学习和回归算出来的区别是什么？\n",
    "      机器学习是用拟合方式，通过有方向的类似暴力穷举方式，寻找最优结果，优化手段 梯度下降方式\n",
    "    机器学习也可能是分段函数，如阿里提出来的MLR\n",
    "    如何判断使用那个模型？\n",
    "    任务是什么，机器学习种类，选择相应模型，如任务是回归，可以多试试回归中的各个模型，看哪个更好，看数据特点"
   ]
  },
  {
   "cell_type": "raw",
   "metadata": {},
   "source": [
    "###  作业 cart决策树训练"
   ]
  },
  {
   "cell_type": "raw",
   "metadata": {},
   "source": [
    "### 作业员工离职预测\n",
    "    注册 kaggle "
   ]
  },
  {
   "cell_type": "raw",
   "metadata": {},
   "source": [
    "### 手写数字识别\n",
    "   10分类问题，用逻辑回归\n",
    "  \n",
    "    学习过程：1.引用数据包，2，加载数据，3，数据预处理，数据正太分布的预规划，4:模型训练 5，模型评估\n",
    "    \n",
    "    数据不归一：如LR模型逻辑回归问题分类任务，  线性回归距离定义， cart没有距离概念不需要数据归一化\n",
    "    \n",
    "    lr.coef_  打印系数\n",
    "    \n",
    "    \n",
    "    \n",
    "    疑问：什么时候需要正太分布归一化？还有没有其他的归一化"
   ]
  },
  {
   "cell_type": "raw",
   "metadata": {},
   "source": [
    " 练习：用tf，keras练习手写数字识别\n",
    "    LSTM模型股票预测（RNN的升级版本）"
   ]
  }
 ],
 "metadata": {
  "kernelspec": {
   "display_name": "Python 3",
   "language": "python",
   "name": "python3"
  },
  "language_info": {
   "codemirror_mode": {
    "name": "ipython",
    "version": 3
   },
   "file_extension": ".py",
   "mimetype": "text/x-python",
   "name": "python",
   "nbconvert_exporter": "python",
   "pygments_lexer": "ipython3",
   "version": "3.8.3"
  },
  "toc": {
   "base_numbering": 1,
   "nav_menu": {},
   "number_sections": true,
   "sideBar": true,
   "skip_h1_title": false,
   "title_cell": "Table of Contents",
   "title_sidebar": "Contents",
   "toc_cell": false,
   "toc_position": {
    "height": "calc(100% - 180px)",
    "left": "10px",
    "top": "150px",
    "width": "358.391px"
   },
   "toc_section_display": true,
   "toc_window_display": true
  },
  "varInspector": {
   "cols": {
    "lenName": 16,
    "lenType": 16,
    "lenVar": 40
   },
   "kernels_config": {
    "python": {
     "delete_cmd_postfix": "",
     "delete_cmd_prefix": "del ",
     "library": "var_list.py",
     "varRefreshCmd": "print(var_dic_list())"
    },
    "r": {
     "delete_cmd_postfix": ") ",
     "delete_cmd_prefix": "rm(",
     "library": "var_list.r",
     "varRefreshCmd": "cat(var_dic_list()) "
    }
   },
   "types_to_exclude": [
    "module",
    "function",
    "builtin_function_or_method",
    "instance",
    "_Feature"
   ],
   "window_display": false
  }
 },
 "nbformat": 4,
 "nbformat_minor": 4
}
