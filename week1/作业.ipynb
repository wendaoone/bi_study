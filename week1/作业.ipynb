{
 "cells": [
  {
   "cell_type": "markdown",
   "metadata": {},
   "source": [
    "# Thinking 1  既然内容相似度简单，能频繁更新，为什么还需要协同过滤"
   ]
  },
  {
   "cell_type": "markdown",
   "metadata": {},
   "source": [
    "\n",
    "  \n"
   ]
  },
  {
   "cell_type": "raw",
   "metadata": {},
   "source": [
    "    内容相似度只能反应物品与物品之间的内在关系，不能反应物品与人之间的内在联系，基于此方式推荐，不能满足用户喜好的差异性。而协同过滤，通过人与人之间的关系与人与物之间的关系，构建了一个多维度的关系网，使得推荐系统更能反应用户喜好。\n",
    "   "
   ]
  },
  {
   "cell_type": "markdown",
   "metadata": {},
   "source": [
    "# 你需要推荐系统么？那些情况下不需要推荐系统"
   ]
  },
  {
   "cell_type": "raw",
   "metadata": {},
   "source": [
    "  对于公司而言有推荐系统可以更好的运营，为用户提供更好的服务如：电商系统中可以快速让用户获取到他想找的商品，提升用户满意度；在打车服务中，可以让用户快速找到最近位置的司机，减少用户等待时间，从而增加用户对系统的粘性。但是对于新系统而言，由于此时的用户群体少，而开发推荐系统会导致公司运营成本大幅增加，而且由于用户群体少，数据少，用户标签也难以有效挖掘，会导致推荐准确率大幅降低，从投入产出比上看此时并不划算。\n",
    "  对于我个人而言，在购物，与日常生活无目的浏览信息时候，需要推荐系统给于一定的推荐。当需要一些新的尝试，比如厌倦了总是吃相同口味的饭菜，想尝试新的菜谱或者餐厅，此时一般会采用主动搜索方式来打破常规"
   ]
  },
  {
   "cell_type": "markdown",
   "metadata": {},
   "source": [
    "# 如果给视屏打标签，视频中有音乐作为背景英语，采用nlp方式对自动打标签，可能存在什么问题"
   ]
  },
  {
   "cell_type": "markdown",
   "metadata": {},
   "source": [
    "通过nlp对视屏分析获取有效内容过程中，当存在背景音乐时候，背景英语的大小，快慢节奏等不同，会对内容产生极大噪音影响，使得标签分类的准确率大大降低"
   ]
  },
  {
   "cell_type": "markdown",
   "metadata": {},
   "source": [
    "# action1：使用cart算法对mnist进行训练"
   ]
  },
  {
   "cell_type": "markdown",
   "metadata": {},
   "source": [
    "代码在 [链接地址 /L1/minist/mnist_catboost.ipynb](./L1/minist/mnist_catboost.ipynb)"
   ]
  }
 ],
 "metadata": {
  "kernelspec": {
   "display_name": "Python 3",
   "language": "python",
   "name": "python3"
  },
  "language_info": {
   "codemirror_mode": {
    "name": "ipython",
    "version": 3
   },
   "file_extension": ".py",
   "mimetype": "text/x-python",
   "name": "python",
   "nbconvert_exporter": "python",
   "pygments_lexer": "ipython3",
   "version": "3.8.3"
  },
  "toc": {
   "base_numbering": 1,
   "nav_menu": {},
   "number_sections": true,
   "sideBar": true,
   "skip_h1_title": false,
   "title_cell": "Table of Contents",
   "title_sidebar": "Contents",
   "toc_cell": false,
   "toc_position": {
    "height": "calc(100% - 180px)",
    "left": "10px",
    "top": "150px",
    "width": "358.391px"
   },
   "toc_section_display": true,
   "toc_window_display": true
  },
  "varInspector": {
   "cols": {
    "lenName": 16,
    "lenType": 16,
    "lenVar": 40
   },
   "kernels_config": {
    "python": {
     "delete_cmd_postfix": "",
     "delete_cmd_prefix": "del ",
     "library": "var_list.py",
     "varRefreshCmd": "print(var_dic_list())"
    },
    "r": {
     "delete_cmd_postfix": ") ",
     "delete_cmd_prefix": "rm(",
     "library": "var_list.r",
     "varRefreshCmd": "cat(var_dic_list()) "
    }
   },
   "types_to_exclude": [
    "module",
    "function",
    "builtin_function_or_method",
    "instance",
    "_Feature"
   ],
   "window_display": false
  }
 },
 "nbformat": 4,
 "nbformat_minor": 4
}
