{
 "cells": [
  {
   "cell_type": "raw",
   "metadata": {},
   "source": [
    "运筹规划\n",
    "采购\n",
    "\n",
    "\n",
    "因变量为连续变量，一般用的回归\n",
    "\n",
    "线性回归是回归问题  逻辑回归是分类问题\n",
    "注册 kaggle\n",
    "\n",
    "\n",
    " 很多时候准确率很低，很有可能是因为没有找到关键特征\n",
    "    在拟合过程中可能遇到数据质量低，伪标签问题，因为标签很多时候是人打的，每个人的理解可能不一样，所以标签也不一样，表象为欠拟合、过拟合\n",
    "    多纬度可以更好的拟合真实情况，但是也容易过拟合（特征愈多，越容易过拟合）\n",
    "    \n",
    "    所有数据都做训练容易不知道结果怎样，但是切分一部分数据出去做验证，容易造成数据浪费，所以可以使用fflod，把数据分成k份，交叉训练验证。\n",
    "    评估完成后可以用调整超参数：epoch  学习率等\n",
    "    学习率是学习速度，学习步长\n",
    "    梯度下降代表学习方向\n",
    "    \n",
    "    \n",
    "   1.如何预测房价\n",
    "     面积，教育资源，地理位置\n",
    "     只看面积的话 可以使用最小二乘法，每个点到直线的最小距离的平方和最小（y=wx+b）机器会先随机生成一组w b，构建出模型然后评估出最优的\n",
    "     \n",
    "    非线性模型如逻辑 决策树 svm\n",
    "    \n",
    "    机器学习和回归算出来的区别是什么？\n",
    "      机器学习是用拟合方式，通过有方向的类似暴力穷举方式，寻找最优结果，优化手段 梯度下降方式\n",
    "    机器学习也可能是分段函数，如阿里提出来的MLR\n",
    "    如何判断使用那个模型？\n",
    "    任务是什么，机器学习种类，选择相应模型，如任务是回归，可以多试试回归中的各个模型，看哪个更好，看数据特点\n",
    "    \n",
    "    ###  作业 cart决策树训练\n",
    "    ### 作业员工离职预测\n",
    "    注册 kaggle \n",
    "    ### 手写数字识别\n",
    "   10分类问题，用逻辑回归\n",
    "  \n",
    "    学习过程：1.引用数据包，2，加载数据，3，数据预处理，数据正太分布的预规划，4:模型训练 5，模型评估\n",
    "    \n",
    "    数据不归一：如LR模型逻辑回归问题分类任务，  线性回归距离定义， cart没有距离概念不需要数据归一化\n",
    "    \n",
    "    lr.coef_  打印系数\n",
    "    \n",
    "    \n",
    "    \n",
    "    疑问：什么时候需要正太分布归一化？还有没有其他的归一化\n",
    "    \n",
    "     练习：用tf，keras练习手写数字识别\n",
    "    LSTM模型股票预测（RNN的升级版本）"
   ]
  }
 ],
 "metadata": {
  "kernelspec": {
   "display_name": "Python 3",
   "language": "python",
   "name": "python3"
  },
  "language_info": {
   "codemirror_mode": {
    "name": "ipython",
    "version": 3
   },
   "file_extension": ".py",
   "mimetype": "text/x-python",
   "name": "python",
   "nbconvert_exporter": "python",
   "pygments_lexer": "ipython3",
   "version": "3.8.3"
  },
  "toc": {
   "base_numbering": 1,
   "nav_menu": {},
   "number_sections": true,
   "sideBar": true,
   "skip_h1_title": false,
   "title_cell": "Table of Contents",
   "title_sidebar": "Contents",
   "toc_cell": false,
   "toc_position": {
    "height": "calc(100% - 180px)",
    "left": "10px",
    "top": "150px",
    "width": "358.391px"
   },
   "toc_section_display": true,
   "toc_window_display": true
  },
  "varInspector": {
   "cols": {
    "lenName": 16,
    "lenType": 16,
    "lenVar": 40
   },
   "kernels_config": {
    "python": {
     "delete_cmd_postfix": "",
     "delete_cmd_prefix": "del ",
     "library": "var_list.py",
     "varRefreshCmd": "print(var_dic_list())"
    },
    "r": {
     "delete_cmd_postfix": ") ",
     "delete_cmd_prefix": "rm(",
     "library": "var_list.r",
     "varRefreshCmd": "cat(var_dic_list()) "
    }
   },
   "types_to_exclude": [
    "module",
    "function",
    "builtin_function_or_method",
    "instance",
    "_Feature"
   ],
   "window_display": false
  }
 },
 "nbformat": 4,
 "nbformat_minor": 4
}
